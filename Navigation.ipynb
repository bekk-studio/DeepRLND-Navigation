{
 "cells": [
  {
   "cell_type": "markdown",
   "metadata": {},
   "source": [
    "# Navigation\n",
    "\n",
    "---\n",
    "\n",
    "In this notebook, you will learn how to use the Unity ML-Agents environment for the first project of the [Deep Reinforcement Learning Nanodegree](https://www.udacity.com/course/deep-reinforcement-learning-nanodegree--nd893).\n",
    "\n",
    "### 1. Start the Environment\n",
    "\n",
    "We begin by importing some necessary packages.  If the code cell below returns an error, please revisit the project instructions to double-check that you have installed [Unity ML-Agents](https://github.com/Unity-Technologies/ml-agents/blob/master/docs/Installation.md) and [NumPy](http://www.numpy.org/)."
   ]
  },
  {
   "cell_type": "code",
   "execution_count": 1,
   "metadata": {},
   "outputs": [],
   "source": [
    "from unityagents import UnityEnvironment\n",
    "import numpy as np"
   ]
  },
  {
   "cell_type": "markdown",
   "metadata": {},
   "source": [
    "Next, we will start the environment!  **_Before running the code cell below_**, change the `file_name` parameter to match the location of the Unity environment that you downloaded.\n",
    "\n",
    "- **Mac**: `\"path/to/Banana.app\"`\n",
    "- **Windows** (x86): `\"path/to/Banana_Windows_x86/Banana.exe\"`\n",
    "- **Windows** (x86_64): `\"path/to/Banana_Windows_x86_64/Banana.exe\"`\n",
    "- **Linux** (x86): `\"path/to/Banana_Linux/Banana.x86\"`\n",
    "- **Linux** (x86_64): `\"path/to/Banana_Linux/Banana.x86_64\"`\n",
    "- **Linux** (x86, headless): `\"path/to/Banana_Linux_NoVis/Banana.x86\"`\n",
    "- **Linux** (x86_64, headless): `\"path/to/Banana_Linux_NoVis/Banana.x86_64\"`\n",
    "\n",
    "For instance, if you are using a Mac, then you downloaded `Banana.app`.  If this file is in the same folder as the notebook, then the line below should appear as follows:\n",
    "```\n",
    "env = UnityEnvironment(file_name=\"Banana.app\")\n",
    "```"
   ]
  },
  {
   "cell_type": "code",
   "execution_count": 2,
   "metadata": {},
   "outputs": [],
   "source": [
    "import glob\n",
    "path = glob.glob('./**/Banana.exe', recursive=True)[0]"
   ]
  },
  {
   "cell_type": "code",
   "execution_count": 3,
   "metadata": {},
   "outputs": [
    {
     "name": "stderr",
     "output_type": "stream",
     "text": [
      "INFO:unityagents:\n",
      "'Academy' started successfully!\n",
      "Unity Academy name: Academy\n",
      "        Number of Brains: 1\n",
      "        Number of External Brains : 1\n",
      "        Lesson number : 0\n",
      "        Reset Parameters :\n",
      "\t\t\n",
      "Unity brain name: BananaBrain\n",
      "        Number of Visual Observations (per agent): 0\n",
      "        Vector Observation space type: continuous\n",
      "        Vector Observation space size (per agent): 37\n",
      "        Number of stacked Vector Observation: 1\n",
      "        Vector Action space type: discrete\n",
      "        Vector Action space size (per agent): 4\n",
      "        Vector Action descriptions: , , , \n"
     ]
    }
   ],
   "source": [
    "env = UnityEnvironment(file_name=path)"
   ]
  },
  {
   "cell_type": "markdown",
   "metadata": {},
   "source": [
    "Environments contain **_brains_** which are responsible for deciding the actions of their associated agents. Here we check for the first brain available, and set it as the default brain we will be controlling from Python."
   ]
  },
  {
   "cell_type": "code",
   "execution_count": 4,
   "metadata": {},
   "outputs": [],
   "source": [
    "# get the default brain\n",
    "brain_name = env.brain_names[0]\n",
    "brain = env.brains[brain_name]"
   ]
  },
  {
   "cell_type": "markdown",
   "metadata": {},
   "source": [
    "### 2. Examine the State and Action Spaces\n",
    "\n",
    "The simulation contains a single agent that navigates a large environment.  At each time step, it has four actions at its disposal:\n",
    "- `0` - walk forward \n",
    "- `1` - walk backward\n",
    "- `2` - turn left\n",
    "- `3` - turn right\n",
    "\n",
    "The state space has `37` dimensions and contains the agent's velocity, along with ray-based perception of objects around agent's forward direction.  A reward of `+1` is provided for collecting a yellow banana, and a reward of `-1` is provided for collecting a blue banana. \n",
    "\n",
    "Run the code cell below to print some information about the environment."
   ]
  },
  {
   "cell_type": "code",
   "execution_count": 5,
   "metadata": {},
   "outputs": [
    {
     "name": "stdout",
     "output_type": "stream",
     "text": [
      "Number of agents: 1\n",
      "Number of actions: 4\n",
      "States look like: [1.         0.         0.         0.         0.84408134 0.\n",
      " 0.         1.         0.         0.0748472  0.         1.\n",
      " 0.         0.         0.25755    1.         0.         0.\n",
      " 0.         0.74177343 0.         1.         0.         0.\n",
      " 0.25854847 0.         0.         1.         0.         0.09355672\n",
      " 0.         1.         0.         0.         0.31969345 0.\n",
      " 0.        ]\n",
      "States have length: 37\n"
     ]
    }
   ],
   "source": [
    "# reset the environment\n",
    "env_info = env.reset(train_mode=True)[brain_name]\n",
    "\n",
    "# number of agents in the environment\n",
    "print('Number of agents:', len(env_info.agents))\n",
    "\n",
    "# number of actions\n",
    "action_size = brain.vector_action_space_size\n",
    "print('Number of actions:', action_size)\n",
    "\n",
    "# examine the state space \n",
    "state = env_info.vector_observations[0]\n",
    "print('States look like:', state)\n",
    "state_size = len(state)\n",
    "print('States have length:', state_size)"
   ]
  },
  {
   "cell_type": "markdown",
   "metadata": {},
   "source": [
    "**States are ever featured. Convolutional layers are not useful here because input are not images. Optional chalenge (pixel input) will add the convolutional layers.** "
   ]
  },
  {
   "cell_type": "markdown",
   "metadata": {},
   "source": [
    "### 3. Take Random Actions in the Environment\n",
    "\n",
    "In the next code cell, you will learn how to use the Python API to control the agent and receive feedback from the environment.\n",
    "\n",
    "Once this cell is executed, you will watch the agent's performance, if it selects an action (uniformly) at random with each time step.  A window should pop up that allows you to observe the agent, as it moves through the environment.  \n",
    "\n",
    "Of course, as part of the project, you'll have to change the code so that the agent is able to use its experience to gradually choose better actions when interacting with the environment!"
   ]
  },
  {
   "cell_type": "code",
   "execution_count": 6,
   "metadata": {},
   "outputs": [
    {
     "name": "stdout",
     "output_type": "stream",
     "text": [
      "Score: 0.0\n",
      "Nbr of step for this episode: 300\n"
     ]
    }
   ],
   "source": [
    "env_info = env.reset(train_mode=False)[brain_name] # reset the environment\n",
    "state = env_info.vector_observations[0]            # get the current state\n",
    "score = 0                                          # initialize the score\n",
    "step_nbr = 0\n",
    "while True:\n",
    "    action = np.random.randint(action_size)        # select an action\n",
    "    env_info = env.step(action)[brain_name]        # send the action to the environment\n",
    "    next_state = env_info.vector_observations[0]   # get the next state\n",
    "    reward = env_info.rewards[0]                   # get the reward\n",
    "    done = env_info.local_done[0]                  # see if episode has finished\n",
    "    score += reward                                # update the score\n",
    "    state = next_state                             # roll over the state to next time step\n",
    "    step_nbr += 1\n",
    "    if done:                                       # exit loop if episode finished\n",
    "        break\n",
    "    \n",
    "print(\"Score: {}\".format(score))\n",
    "print(\"Nbr of step for this episode: {}\".format(step_nbr))"
   ]
  },
  {
   "cell_type": "markdown",
   "metadata": {},
   "source": [
    "Each episode is done after 300 steps. That means during the training, each episode will run at term. "
   ]
  },
  {
   "cell_type": "markdown",
   "metadata": {},
   "source": [
    "### 4. It's Your Turn!\n",
    "\n",
    "Now it's your turn to train your own agent to solve the environment!  When training the environment, set `train_mode=True`, so that the line for resetting the environment looks like the following:\n",
    "```python\n",
    "env_info = env.reset(train_mode=True)[brain_name]\n",
    "```"
   ]
  },
  {
   "cell_type": "markdown",
   "metadata": {},
   "source": [
    "Import the useful libraries"
   ]
  },
  {
   "cell_type": "code",
   "execution_count": 7,
   "metadata": {},
   "outputs": [],
   "source": [
    "import torch\n",
    "from collections import deque\n",
    "from dqn_agent import Agent\n",
    "import matplotlib.pyplot as plt\n",
    "%matplotlib inline"
   ]
  },
  {
   "cell_type": "markdown",
   "metadata": {},
   "source": [
    "### Training"
   ]
  },
  {
   "cell_type": "code",
   "execution_count": 27,
   "metadata": {},
   "outputs": [],
   "source": [
    "def train_dqn(agent, env, brain_name, n_episodes=2000, max_t=1000, eps_start=1., eps_end=0.01, eps_decay=0.9945,\n",
    "              save=False, target=20.):\n",
    "    \"\"\"Deep Q-Learning.\n",
    "    \n",
    "    Params\n",
    "    ======\n",
    "        n_episodes (int): maximum number of training episodes\n",
    "        max_t (int): maximum number of timesteps per episode\n",
    "        eps_start (float): starting value of epsilon, for epsilon-greedy action selection\n",
    "        eps_end (float): minimum value of epsilon\n",
    "        eps_decay (float): multiplicative factor (per episode) for decreasing epsilon\n",
    "        save (boolean): save or not the model\n",
    "        target (float) : score threshold to consider that the model is completely trained\n",
    "    \"\"\"\n",
    "    scores = []                        # list containing scores from each episode\n",
    "    scores_avg = []                    # list containing average scores over 100 episode\n",
    "    scores_window = deque(maxlen=100)  # last 100 scores\n",
    "    eps = eps_start                    # initialize epsilon\n",
    "    for i_episode in range(1, n_episodes+1):\n",
    "        env_info = env.reset(train_mode=True)[brain_name]  # reset the environment\n",
    "        state = env_info.vector_observations[0]            # get the current state\n",
    "        score = 0                                          # initialize the score\n",
    "        for t in range(max_t):\n",
    "            action = agent.act(state, eps)\n",
    "            env_info = env.step(action)[brain_name]        # send the action to the environment\n",
    "            next_state = env_info.vector_observations[0]   # get the next state\n",
    "            reward = env_info.rewards[0]                   # get the reward\n",
    "            done = env_info.local_done[0]\n",
    "            agent.step(state, action, reward, next_state, done)\n",
    "            state = next_state\n",
    "            score += reward\n",
    "            if done:\n",
    "                break \n",
    "        scores_window.append(score)       # save most recent score\n",
    "        scores.append(score)              # save most recent score\n",
    "        eps = max(eps_end, eps_decay*eps) # decrease epsilon\n",
    "        print('\\rEpisode {}\\tAverage Score: {:.2f}'.format(i_episode, np.mean(scores_window)), end=\"\")\n",
    "        if i_episode % 100 == 0:\n",
    "            print('\\rEpisode {}\\tAverage Score: {:.2f}'.format(i_episode, np.mean(scores_window)))\n",
    "            scores_avg.append(np.mean(scores_window))\n",
    "            if save:\n",
    "                torch.save(agent.qnetwork_local.state_dict(), 'checkpointep{}.pt'.format(i_episode))\n",
    "        if np.mean(scores_window)>=target:\n",
    "            print('\\nEnvironment solved in {:d} episodes!\\tAverage Score: {:.2f}'.format(i_episode-100, np.mean(scores_window)))\n",
    "            scores_avg.append(np.mean(scores_window))\n",
    "            if save:\n",
    "                torch.save(agent.qnetwork_local.state_dict(), 'model.pt')\n",
    "                break\n",
    "    return scores, scores_avg"
   ]
  },
  {
   "cell_type": "markdown",
   "metadata": {},
   "source": [
    "This function and python scripts are coming from DQN lesson exercice with the following parameters:\n",
    "\n",
    "* BUFFER_SIZE = **int(1e5)**                # replay buffer size\n",
    "* BATCH_SIZE = **64**                      # minibatch size\n",
    "* GAMMA = **0.99**                          # discount factor\n",
    "* TAU = **5e-4**              # for soft update of target parameters\n",
    "* TAU_STEP = **4000**         # for hard update of target parameters\n",
    "* LR = **5e-4**               # learning rate \n",
    "* UPDATE_EVERY = **4**        # how often to update the network"
   ]
  },
  {
   "cell_type": "markdown",
   "metadata": {},
   "source": [
    "Network implemented:\n",
    "\n",
    "![network](./network.png)"
   ]
  },
  {
   "cell_type": "markdown",
   "metadata": {},
   "source": [
    "#### DQN (with fixed Q-target) "
   ]
  },
  {
   "cell_type": "markdown",
   "metadata": {},
   "source": [
    "Here we train the model without improvement and report the result. \n",
    "\n",
    "fixed Q-target means that target network is updated every 4000 steps (every 14 episodes).\n",
    "\n",
    "Network is inspired by [this paper](https://storage.googleapis.com/deepmind-media/dqn/DQNNaturePaper.pdf)"
   ]
  },
  {
   "cell_type": "code",
   "execution_count": 9,
   "metadata": {},
   "outputs": [],
   "source": [
    "agent = Agent(state_size=state_size, action_size=action_size, seed=0)"
   ]
  },
  {
   "cell_type": "code",
   "execution_count": 10,
   "metadata": {},
   "outputs": [
    {
     "name": "stdout",
     "output_type": "stream",
     "text": [
      "Episode 100\tAverage Score: 1.34\n",
      "Episode 200\tAverage Score: 5.07\n",
      "Episode 300\tAverage Score: 8.21\n",
      "Episode 400\tAverage Score: 11.40\n",
      "Episode 500\tAverage Score: 11.73\n",
      "Episode 600\tAverage Score: 14.08\n",
      "Episode 700\tAverage Score: 14.25\n",
      "Episode 800\tAverage Score: 13.83\n",
      "Episode 900\tAverage Score: 15.83\n",
      "Episode 1000\tAverage Score: 16.21\n",
      "Episode 1100\tAverage Score: 15.37\n",
      "Episode 1200\tAverage Score: 15.33\n",
      "Episode 1300\tAverage Score: 14.43\n",
      "Episode 1400\tAverage Score: 15.27\n",
      "Episode 1500\tAverage Score: 14.55\n",
      "Episode 1600\tAverage Score: 14.87\n",
      "Episode 1700\tAverage Score: 14.24\n",
      "Episode 1800\tAverage Score: 15.47\n",
      "Episode 1900\tAverage Score: 15.52\n",
      "Episode 2000\tAverage Score: 13.96\n"
     ]
    },
    {
     "data": {
      "image/png": "[encoded data removed]",
      "text/plain": [
       "<Figure size 432x288 with 1 Axes>"
      ]
     },
     "metadata": {
      "needs_background": "light"
     },
     "output_type": "display_data"
    }
   ],
   "source": [
    "scores1, scores_avg1 = train_dqn(agent, env, brain_name)\n",
    "\n",
    "# plot the scores\n",
    "fig = plt.figure()\n",
    "ax = fig.add_subplot(111)\n",
    "plt.plot(np.arange(len(scores1)), scores1, alpha=0.3, color = 'b')\n",
    "plt.plot(np.append(np.arange(1,len(scores_avg1))*100 ,len(scores1)), scores_avg1, color = 'b')\n",
    "plt.ylabel('Score')\n",
    "plt.xlabel('Episode #')\n",
    "plt.show()"
   ]
  },
  {
   "cell_type": "markdown",
   "metadata": {},
   "source": [
    "#### DQN (soft update method) "
   ]
  },
  {
   "cell_type": "markdown",
   "metadata": {},
   "source": [
    "Here we train the model by using soft update method. Rather than updates the target network every 4000 steps, we update it everystep but with inertness according to the formula:\n",
    "θ_target = τ*θ_local + (1 - τ)*θ_target"
   ]
  },
  {
   "cell_type": "code",
   "execution_count": 11,
   "metadata": {},
   "outputs": [
    {
     "name": "stdout",
     "output_type": "stream",
     "text": [
      "soft uptade activated\n"
     ]
    }
   ],
   "source": [
    "agent = Agent(state_size=state_size, action_size=action_size, seed=0, improvements=['soft_update'])"
   ]
  },
  {
   "cell_type": "code",
   "execution_count": 12,
   "metadata": {},
   "outputs": [
    {
     "name": "stdout",
     "output_type": "stream",
     "text": [
      "Episode 100\tAverage Score: 0.90\n",
      "Episode 200\tAverage Score: 4.07\n",
      "Episode 300\tAverage Score: 7.31\n",
      "Episode 400\tAverage Score: 9.28\n",
      "Episode 500\tAverage Score: 10.76\n",
      "Episode 600\tAverage Score: 13.05\n",
      "Episode 700\tAverage Score: 14.52\n",
      "Episode 800\tAverage Score: 14.82\n",
      "Episode 900\tAverage Score: 15.22\n",
      "Episode 1000\tAverage Score: 15.98\n",
      "Episode 1100\tAverage Score: 15.83\n",
      "Episode 1200\tAverage Score: 16.23\n",
      "Episode 1300\tAverage Score: 16.53\n",
      "Episode 1400\tAverage Score: 16.12\n",
      "Episode 1500\tAverage Score: 15.41\n",
      "Episode 1600\tAverage Score: 15.29\n",
      "Episode 1700\tAverage Score: 16.19\n",
      "Episode 1800\tAverage Score: 16.48\n",
      "Episode 1900\tAverage Score: 16.96\n",
      "Episode 2000\tAverage Score: 16.42\n"
     ]
    },
    {
     "data": {
      "image/png": "[encoded data removed]",
      "text/plain": [
       "<Figure size 432x288 with 1 Axes>"
      ]
     },
     "metadata": {
      "needs_background": "light"
     },
     "output_type": "display_data"
    }
   ],
   "source": [
    "scores2, scores_avg2 = train_dqn(agent, env, brain_name)\n",
    "\n",
    "# plot the scores\n",
    "fig = plt.figure()\n",
    "ax = fig.add_subplot(111)\n",
    "plt.plot(np.arange(len(scores2)), scores2, alpha=0.3, color = 'purple')\n",
    "plt.plot(np.append(np.arange(1,len(scores_avg2))*100 ,len(scores2)), scores_avg2, color = 'purple')\n",
    "plt.ylabel('Score')\n",
    "plt.xlabel('Episode #')\n",
    "plt.show()"
   ]
  },
  {
   "cell_type": "markdown",
   "metadata": {},
   "source": [
    "#### Double DQN"
   ]
  },
  {
   "cell_type": "markdown",
   "metadata": {},
   "source": [
    "Double DQN is an improvement easily implementable. This method handles the problem of the overestimation of Q-values.\n",
    "when we compute the Q target, we use two networks to decouple the action selection from the target Q value generation. We:\n",
    "\n",
    "* use our DQN network to select what is the best action to take for the next state (the action with the highest Q value).\n",
    "* use our target network to calculate the target Q value of taking that action at the next state.\n",
    "\n",
    "[Research paper](https://arxiv.org/abs/1509.06461)"
   ]
  },
  {
   "cell_type": "code",
   "execution_count": 13,
   "metadata": {},
   "outputs": [
    {
     "name": "stdout",
     "output_type": "stream",
     "text": [
      "soft uptade activated\n",
      "Double DQN activated\n"
     ]
    }
   ],
   "source": [
    "agent = Agent(state_size=state_size, action_size=action_size, seed=0, improvements=['soft_update', 'DoubleDQN'])"
   ]
  },
  {
   "cell_type": "code",
   "execution_count": 14,
   "metadata": {},
   "outputs": [
    {
     "name": "stdout",
     "output_type": "stream",
     "text": [
      "Episode 100\tAverage Score: 0.24\n",
      "Episode 200\tAverage Score: 2.16\n",
      "Episode 300\tAverage Score: 5.54\n",
      "Episode 400\tAverage Score: 7.62\n",
      "Episode 500\tAverage Score: 11.17\n",
      "Episode 600\tAverage Score: 11.92\n",
      "Episode 700\tAverage Score: 15.24\n",
      "Episode 800\tAverage Score: 16.73\n",
      "Episode 900\tAverage Score: 16.34\n",
      "Episode 1000\tAverage Score: 15.96\n",
      "Episode 1100\tAverage Score: 16.65\n",
      "Episode 1200\tAverage Score: 15.91\n",
      "Episode 1300\tAverage Score: 16.12\n",
      "Episode 1400\tAverage Score: 16.24\n",
      "Episode 1500\tAverage Score: 17.56\n",
      "Episode 1600\tAverage Score: 17.05\n",
      "Episode 1700\tAverage Score: 16.84\n",
      "Episode 1800\tAverage Score: 16.60\n",
      "Episode 1900\tAverage Score: 16.36\n",
      "Episode 2000\tAverage Score: 16.27\n"
     ]
    },
    {
     "data": {
      "image/png": "[encoded data removed]",
      "text/plain": [
       "<Figure size 432x288 with 1 Axes>"
      ]
     },
     "metadata": {
      "needs_background": "light"
     },
     "output_type": "display_data"
    }
   ],
   "source": [
    "scores3, scores_avg3 = train_dqn(agent, env, brain_name)\n",
    "\n",
    "# plot the scores\n",
    "fig = plt.figure()\n",
    "ax = fig.add_subplot(111)\n",
    "plt.plot(np.arange(len(scores3)), scores3, alpha=0.3, color = 'green')\n",
    "plt.plot(np.append(np.arange(1,len(scores_avg3))*100 ,len(scores3)), scores_avg3, color = 'green')\n",
    "plt.ylabel('Score')\n",
    "plt.xlabel('Episode #')\n",
    "plt.show()"
   ]
  },
  {
   "cell_type": "markdown",
   "metadata": {},
   "source": [
    "#### Prioritized Experience Replay"
   ]
  },
  {
   "cell_type": "markdown",
   "metadata": {},
   "source": [
    "PER is a improvement more complicate to implement.\n",
    "\n",
    "The idea is that some experiences may be more important than others for our training, but might occur less frequently.\n",
    "\n",
    "Because we sample the batch uniformly (selecting the experiences randomly) these rich experiences that occur rarely have practically no chance to be selected.\n",
    "\n",
    "That’s why, with PER, we try to change the sampling distribution by using a criterion to define the priority of each tuple of experience.\n",
    "\n",
    "We want to take in priority experience where there is a big difference between our prediction and the TD target, since it means that we have a lot to learn about it.\n",
    "\n",
    "We will use a sum tree to select batches.\n",
    "\n",
    "![sumtree](./sumtree.png)"
   ]
  },
  {
   "cell_type": "markdown",
   "metadata": {},
   "source": [
    "[Reseach paper](https://arxiv.org/abs/1511.05952)\n",
    "\n",
    "**Comment:**\n",
    "\n",
    "Improvement is not visible for this problem. Some doubts about implementation are possible."
   ]
  },
  {
   "cell_type": "code",
   "execution_count": 15,
   "metadata": {},
   "outputs": [
    {
     "name": "stdout",
     "output_type": "stream",
     "text": [
      "soft uptade activated\n",
      "Prioritized Experience Replay activated\n"
     ]
    }
   ],
   "source": [
    "agent = Agent(state_size=state_size, action_size=action_size, seed=0, improvements=['soft_update', 'PER'])"
   ]
  },
  {
   "cell_type": "code",
   "execution_count": 16,
   "metadata": {},
   "outputs": [
    {
     "name": "stdout",
     "output_type": "stream",
     "text": [
      "Episode 100\tAverage Score: 0.55\n",
      "Episode 200\tAverage Score: 2.77\n",
      "Episode 300\tAverage Score: 6.38\n",
      "Episode 400\tAverage Score: 9.24\n",
      "Episode 500\tAverage Score: 11.23\n",
      "Episode 600\tAverage Score: 13.51\n",
      "Episode 700\tAverage Score: 14.07\n",
      "Episode 800\tAverage Score: 15.71\n",
      "Episode 900\tAverage Score: 15.56\n",
      "Episode 1000\tAverage Score: 16.24\n",
      "Episode 1100\tAverage Score: 15.88\n",
      "Episode 1200\tAverage Score: 15.57\n",
      "Episode 1300\tAverage Score: 16.70\n",
      "Episode 1400\tAverage Score: 16.43\n",
      "Episode 1500\tAverage Score: 16.25\n",
      "Episode 1600\tAverage Score: 15.96\n",
      "Episode 1700\tAverage Score: 16.42\n",
      "Episode 1800\tAverage Score: 16.11\n",
      "Episode 1900\tAverage Score: 16.49\n",
      "Episode 2000\tAverage Score: 15.95\n"
     ]
    },
    {
     "data": {
      "image/png": "[encoded data removed]",
      "text/plain": [
       "<Figure size 432x288 with 1 Axes>"
      ]
     },
     "metadata": {
      "needs_background": "light"
     },
     "output_type": "display_data"
    }
   ],
   "source": [
    "scores4, scores_avg4 = train_dqn(agent, env, brain_name)\n",
    "\n",
    "# plot the scores\n",
    "fig = plt.figure()\n",
    "ax = fig.add_subplot(111)\n",
    "plt.plot(np.arange(len(scores4)), scores4, alpha=0.3, color = 'gold')\n",
    "plt.plot(np.append(np.arange(1,len(scores_avg4))*100 ,len(scores4)), scores_avg4, color = 'gold')\n",
    "plt.ylabel('Score')\n",
    "plt.xlabel('Episode #')\n",
    "plt.show()"
   ]
  },
  {
   "cell_type": "markdown",
   "metadata": {},
   "source": [
    "#### Dueling DQN"
   ]
  },
  {
   "cell_type": "markdown",
   "metadata": {},
   "source": [
    "Here we use the Dueling DQN improvement.\n",
    "\n",
    "Q-values correspond to how good it is to be at that state and taking an action at that state Q(s,a).\n",
    "\n",
    "So we can decompose Q(s,a) as the sum of:\n",
    "\n",
    "* V(s): the value of being at that state\n",
    "* A(s,a): the advantage of taking that action at that state (how much better is to take this action versus all other possible actions at that state).\n",
    "\n",
    "With DDQN, we want to separate the estimator of these two elements, using two new streams:\n",
    "\n",
    "* one that estimates the state value V(s)\n",
    "* one that estimates the advantage for each action A(s,a)\n",
    "\n",
    "![Dueling](./dueling1.png)\n",
    "\n",
    "[Research paper](https://arxiv.org/abs/1511.06581)\n",
    "\n",
    "**Comment**\n",
    "\n",
    "Here, I have been not sure if I have to add a RELU function between the both networks and the agregating layer. Solution seems to be that no RELU function has to be used just before agregating layer."
   ]
  },
  {
   "cell_type": "code",
   "execution_count": 17,
   "metadata": {},
   "outputs": [
    {
     "name": "stdout",
     "output_type": "stream",
     "text": [
      "soft uptade activated\n",
      "Dueling DQN activated\n"
     ]
    }
   ],
   "source": [
    "agent = Agent(state_size=state_size, action_size=action_size, seed=0, improvements=['soft_update', 'DuelingDQN'])"
   ]
  },
  {
   "cell_type": "code",
   "execution_count": 18,
   "metadata": {
    "scrolled": false
   },
   "outputs": [
    {
     "name": "stdout",
     "output_type": "stream",
     "text": [
      "Episode 100\tAverage Score: 0.52\n",
      "Episode 200\tAverage Score: 4.01\n",
      "Episode 300\tAverage Score: 6.70\n",
      "Episode 400\tAverage Score: 9.42\n",
      "Episode 500\tAverage Score: 12.06\n",
      "Episode 600\tAverage Score: 14.19\n",
      "Episode 700\tAverage Score: 14.34\n",
      "Episode 800\tAverage Score: 14.72\n",
      "Episode 900\tAverage Score: 15.30\n",
      "Episode 1000\tAverage Score: 15.79\n",
      "Episode 1100\tAverage Score: 15.80\n",
      "Episode 1200\tAverage Score: 14.94\n",
      "Episode 1300\tAverage Score: 15.74\n",
      "Episode 1400\tAverage Score: 16.01\n",
      "Episode 1500\tAverage Score: 15.55\n",
      "Episode 1600\tAverage Score: 16.09\n",
      "Episode 1700\tAverage Score: 15.54\n",
      "Episode 1800\tAverage Score: 15.21\n",
      "Episode 1900\tAverage Score: 15.68\n",
      "Episode 2000\tAverage Score: 15.21\n"
     ]
    },
    {
     "data": {
      "image/png": "[encoded data removed]",
      "text/plain": [
       "<Figure size 432x288 with 1 Axes>"
      ]
     },
     "metadata": {
      "needs_background": "light"
     },
     "output_type": "display_data"
    }
   ],
   "source": [
    "scores5, scores_avg5 = train_dqn(agent, env, brain_name)\n",
    "\n",
    "# plot the scores\n",
    "fig = plt.figure()\n",
    "ax = fig.add_subplot(111)\n",
    "plt.plot(np.arange(len(scores5)), scores5, alpha=0.3, color = 'red')\n",
    "plt.plot(np.append(np.arange(1,len(scores_avg5))*100 ,len(scores5)), scores_avg5, color = 'red')\n",
    "plt.ylabel('Score')\n",
    "plt.xlabel('Episode #')\n",
    "plt.show()"
   ]
  },
  {
   "cell_type": "markdown",
   "metadata": {},
   "source": [
    "#### Rainbow"
   ]
  },
  {
   "cell_type": "markdown",
   "metadata": {},
   "source": [
    "Here we will use all the improvement together. What is called \"rainbow\""
   ]
  },
  {
   "cell_type": "code",
   "execution_count": 28,
   "metadata": {},
   "outputs": [
    {
     "name": "stdout",
     "output_type": "stream",
     "text": [
      "soft uptade activated\n",
      "Double DQN activated\n",
      "Prioritized Experience Replay activated\n",
      "Dueling DQN activated\n"
     ]
    }
   ],
   "source": [
    "agent = Agent(state_size=state_size, action_size=action_size, seed=0, improvements=['soft_update', \n",
    "                                                                                    'DoubleDQN', 'PER', 'DuelingDQN'])"
   ]
  },
  {
   "cell_type": "code",
   "execution_count": 29,
   "metadata": {},
   "outputs": [
    {
     "name": "stdout",
     "output_type": "stream",
     "text": [
      "Episode 100\tAverage Score: 0.12\n",
      "Episode 200\tAverage Score: 2.08\n",
      "Episode 300\tAverage Score: 5.52\n",
      "Episode 400\tAverage Score: 7.78\n",
      "Episode 500\tAverage Score: 9.58\n",
      "Episode 600\tAverage Score: 13.70\n",
      "Episode 700\tAverage Score: 14.81\n",
      "Episode 800\tAverage Score: 15.50\n",
      "Episode 900\tAverage Score: 16.36\n",
      "Episode 1000\tAverage Score: 16.37\n",
      "Episode 1100\tAverage Score: 16.46\n",
      "Episode 1200\tAverage Score: 16.36\n",
      "Episode 1300\tAverage Score: 16.55\n",
      "Episode 1400\tAverage Score: 16.08\n",
      "Episode 1500\tAverage Score: 16.04\n",
      "Episode 1600\tAverage Score: 16.37\n",
      "Episode 1700\tAverage Score: 14.88\n",
      "Episode 1800\tAverage Score: 16.18\n",
      "Episode 1900\tAverage Score: 15.67\n",
      "Episode 2000\tAverage Score: 15.56\n"
     ]
    }
   ],
   "source": [
    "scores6, scores_avg6 = train_dqn(agent, env, brain_name)"
   ]
  },
  {
   "cell_type": "code",
   "execution_count": 30,
   "metadata": {},
   "outputs": [
    {
     "data": {
      "image/png": "[encoded data removed]",
      "text/plain": [
       "<Figure size 432x288 with 1 Axes>"
      ]
     },
     "metadata": {
      "needs_background": "light"
     },
     "output_type": "display_data"
    }
   ],
   "source": [
    "# plot the scores\n",
    "from matplotlib.collections import LineCollection\n",
    "fig = plt.figure()\n",
    "ax = fig.add_subplot(111)\n",
    "x = np.arange(len(scores6))\n",
    "y = scores6\n",
    "points = np.array([x, y]).T.reshape(-1, 1, 2)\n",
    "segments = np.concatenate([points[:-1], points[1:]], axis=1)\n",
    "cm = dict(zip(range(0,3),['green', 'gold', 'red']))\n",
    "colors = list( map( cm.get , x//100%3  ))\n",
    "lc = LineCollection(segments, colors=colors, alpha=0.3)\n",
    "ax.add_collection(lc)\n",
    "plt.plot(np.append(np.arange(1,len(scores_avg6))*100 ,len(scores6)), scores_avg6, color = 'black')\n",
    "plt.ylabel('Score')\n",
    "plt.xlabel('Episode #')\n",
    "plt.show()"
   ]
  },
  {
   "cell_type": "markdown",
   "metadata": {},
   "source": [
    "#### Resume"
   ]
  },
  {
   "cell_type": "code",
   "execution_count": 31,
   "metadata": {},
   "outputs": [
    {
     "data": {
      "image/png": "[encoded data removed]",
      "text/plain": [
       "<Figure size 1080x360 with 1 Axes>"
      ]
     },
     "metadata": {
      "needs_background": "light"
     },
     "output_type": "display_data"
    }
   ],
   "source": [
    "fig = plt.figure(figsize=(15,5))\n",
    "ax = fig.add_subplot(111)\n",
    "plt.plot(np.append(np.arange(1,len(scores_avg1))*100 ,len(scores1)), scores_avg1, color = 'b', label='DQN hard update')\n",
    "plt.plot(np.append(np.arange(1,len(scores_avg2))*100 ,len(scores2)), scores_avg2, color = 'purple', label='DQN soft update')\n",
    "plt.plot(np.append(np.arange(1,len(scores_avg3))*100 ,len(scores3)), scores_avg3, color = 'green', label='Double DQN')\n",
    "plt.plot(np.append(np.arange(1,len(scores_avg4))*100 ,len(scores4)), scores_avg4, color = 'gold', label='PER')\n",
    "plt.plot(np.append(np.arange(1,len(scores_avg5))*100 ,len(scores2)), scores_avg5, color = 'red', label='Dueling DQN')\n",
    "plt.plot(np.append(np.arange(1,len(scores_avg6))*100 ,len(scores6)), scores_avg6, color = 'black', label='Rainbow')\n",
    "plt.ylabel('Score')\n",
    "plt.xlabel('Episode #')\n",
    "plt.legend()\n",
    "plt.show()"
   ]
  },
  {
   "cell_type": "markdown",
   "metadata": {},
   "source": [
    "For this challenge, improvements are not really obvious. But Double DQN and soft update seems to be better solution."
   ]
  },
  {
   "cell_type": "markdown",
   "metadata": {},
   "source": [
    "### Save the model"
   ]
  },
  {
   "cell_type": "markdown",
   "metadata": {},
   "source": [
    "Here we choose a model with improvements:\n",
    "* soft update\n",
    "* Double DQN\n",
    "* Dueling DQN\n",
    "\n",
    "Then we save the model when we reach the target score of 17 (mean of 100 episodes).\n",
    "\n",
    "Also, we save model at intermediary step (each 100 episode) in order to display the learning process."
   ]
  },
  {
   "cell_type": "code",
   "execution_count": 32,
   "metadata": {
    "scrolled": false
   },
   "outputs": [
    {
     "name": "stdout",
     "output_type": "stream",
     "text": [
      "soft uptade activated\n",
      "Double DQN activated\n",
      "Dueling DQN activated\n",
      "Episode 100\tAverage Score: 0.80\n",
      "Episode 200\tAverage Score: 4.48\n",
      "Episode 300\tAverage Score: 7.88\n",
      "Episode 400\tAverage Score: 10.09\n",
      "Episode 500\tAverage Score: 11.83\n",
      "Episode 600\tAverage Score: 13.72\n",
      "Episode 700\tAverage Score: 13.63\n",
      "Episode 800\tAverage Score: 14.46\n",
      "Episode 900\tAverage Score: 16.04\n",
      "Episode 1000\tAverage Score: 15.80\n",
      "Episode 1100\tAverage Score: 15.92\n",
      "Episode 1200\tAverage Score: 15.97\n",
      "Episode 1300\tAverage Score: 16.23\n",
      "Episode 1400\tAverage Score: 15.97\n",
      "Episode 1500\tAverage Score: 16.27\n",
      "Episode 1600\tAverage Score: 17.05\n",
      "\n",
      "Environment solved in 1500 episodes!\tAverage Score: 17.05\n"
     ]
    }
   ],
   "source": [
    "agent = Agent(state_size=state_size, action_size=action_size, seed=0, improvements=['soft_update', \n",
    "                                                                                    'DoubleDQN', 'DuelingDQN'])\n",
    "scores, scores_avg = train_dqn(agent, env, brain_name, save=True, target=17.0)"
   ]
  },
  {
   "cell_type": "markdown",
   "metadata": {},
   "source": [
    "### Testing"
   ]
  },
  {
   "cell_type": "markdown",
   "metadata": {},
   "source": [
    "#### Wath the agent"
   ]
  },
  {
   "cell_type": "code",
   "execution_count": 33,
   "metadata": {},
   "outputs": [],
   "source": [
    "import time"
   ]
  },
  {
   "cell_type": "code",
   "execution_count": 34,
   "metadata": {},
   "outputs": [],
   "source": [
    "def test_dqn(agent, env, brain_name, max_t=1000):\n",
    "    \"\"\"Deep Q-Learning.\n",
    "    \n",
    "    Params\n",
    "    ======\n",
    "        max_t (int): maximum number of timesteps per episode\n",
    "    \"\"\"\n",
    "    env_info = env.reset(train_mode=False)[brain_name] # reset the environment\n",
    "    state = env_info.vector_observations[0]            # get the current state\n",
    "    score = 0                                          # initialize the score\n",
    "    while True:\n",
    "        action = agent.act(state)                      # select an action\n",
    "        env_info = env.step(action)[brain_name]        # send the action to the environment\n",
    "        next_state = env_info.vector_observations[0]   # get the next state\n",
    "        reward = env_info.rewards[0]                   # get the reward\n",
    "        done = env_info.local_done[0]                  # see if episode has finished\n",
    "        score += reward                                # update the score\n",
    "        state = next_state                             # roll over the state to next time step\n",
    "        if done:                                       # exit loop if episode finished\n",
    "            break\n",
    "\n",
    "    return score"
   ]
  },
  {
   "cell_type": "markdown",
   "metadata": {},
   "source": [
    "#### trained agent"
   ]
  },
  {
   "cell_type": "code",
   "execution_count": 35,
   "metadata": {},
   "outputs": [
    {
     "name": "stdout",
     "output_type": "stream",
     "text": [
      "Score: 19.0\n"
     ]
    }
   ],
   "source": [
    "# load the weights from file\n",
    "agent.qnetwork_local.load_state_dict(torch.load('model.pt'))\n",
    "time.sleep(10)\n",
    "score = test_dqn(agent, env, brain_name)    \n",
    "print(\"Score: {}\".format(score))"
   ]
  },
  {
   "cell_type": "markdown",
   "metadata": {},
   "source": [
    "##### Gifed output"
   ]
  },
  {
   "cell_type": "markdown",
   "metadata": {},
   "source": [
    "![gif1](./finalagent.gif)"
   ]
  },
  {
   "cell_type": "markdown",
   "metadata": {},
   "source": [
    "#### After 100 episodes"
   ]
  },
  {
   "cell_type": "code",
   "execution_count": 43,
   "metadata": {},
   "outputs": [
    {
     "name": "stdout",
     "output_type": "stream",
     "text": [
      "Score: 0.0\n"
     ]
    }
   ],
   "source": [
    "# load the weights from file\n",
    "agent.qnetwork_local.load_state_dict(torch.load('checkpointep100.pt'))\n",
    "time.sleep(10)\n",
    "score = test_dqn(agent, env, brain_name)    \n",
    "print(\"Score: {}\".format(score))"
   ]
  },
  {
   "cell_type": "markdown",
   "metadata": {},
   "source": [
    "##### Gifed output"
   ]
  },
  {
   "cell_type": "markdown",
   "metadata": {},
   "source": [
    "![gif2](./100episodes.gif)"
   ]
  },
  {
   "cell_type": "markdown",
   "metadata": {},
   "source": [
    "#### After 500 episodes"
   ]
  },
  {
   "cell_type": "code",
   "execution_count": 42,
   "metadata": {},
   "outputs": [
    {
     "name": "stdout",
     "output_type": "stream",
     "text": [
      "Score: 11.0\n"
     ]
    }
   ],
   "source": [
    "# load the weights from file\n",
    "agent.qnetwork_local.load_state_dict(torch.load('checkpointep500.pt'))\n",
    "time.sleep(10)\n",
    "score = test_dqn(agent, env, brain_name)    \n",
    "print(\"Score: {}\".format(score))"
   ]
  },
  {
   "cell_type": "markdown",
   "metadata": {},
   "source": [
    "##### Gifed output"
   ]
  },
  {
   "cell_type": "markdown",
   "metadata": {},
   "source": [
    "![gif3](./500episodes.gif)"
   ]
  },
  {
   "cell_type": "markdown",
   "metadata": {},
   "source": [
    "#### Other example for 500 episodes"
   ]
  },
  {
   "cell_type": "markdown",
   "metadata": {},
   "source": [
    "![gif4](./500episodesother.gif)"
   ]
  },
  {
   "cell_type": "markdown",
   "metadata": {},
   "source": [
    "When finished, you can close the environment."
   ]
  },
  {
   "cell_type": "code",
   "execution_count": 45,
   "metadata": {},
   "outputs": [],
   "source": [
    "env.close()"
   ]
  },
  {
   "cell_type": "markdown",
   "metadata": {},
   "source": [
    "## Discusion"
   ]
  },
  {
   "cell_type": "markdown",
   "metadata": {},
   "source": [
    "Network works correctly and learns to navigate between yellow and blue bananas. We can see that there are some easy situations and complex situations (when blue bananas surrounds the agent). Some complex situation make blocking the agent in an inappropriate policy. Improvement could be to distinguish complex situation to prioritize it. PER prioritize the infrequent situation not the complex one. "
   ]
  },
  {
   "cell_type": "markdown",
   "metadata": {},
   "source": [
    "Second point is model could be improve by : a better parameter optimization, an other network architecture, dropout, regularization, ..."
   ]
  }
 ],
 "metadata": {
  "kernelspec": {
   "display_name": "drlnd",
   "language": "python",
   "name": "drlnd"
  },
  "language_info": {
   "codemirror_mode": {
    "name": "ipython",
    "version": 3
   },
   "file_extension": ".py",
   "mimetype": "text/x-python",
   "name": "python",
   "nbconvert_exporter": "python",
   "pygments_lexer": "ipython3",
   "version": "3.6.7"
  }
 },
 "nbformat": 4,
 "nbformat_minor": 2
}
